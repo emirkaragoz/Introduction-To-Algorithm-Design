{
 "cells": [
  {
   "cell_type": "markdown",
   "metadata": {},
   "source": [
    "Edges created with using vertex in xls file. File read and graph generated.\n",
    "Time Complexity of BFS and DFS: O(V+E) where V is number of vertices in the graph and E is number of edges in the graph."
   ]
  },
  {
   "cell_type": "code",
   "execution_count": 2,
   "metadata": {},
   "outputs": [
    {
     "name": "stdout",
     "output_type": "stream",
     "text": [
      "1 -> 2 -> 3 -> 4 -> 5 -> 8 -> 6 -> 9 -> 10 -> 7 -> \n",
      "1 -> 8 -> 10 -> 9 -> 5 -> 6 -> 7 -> 4 -> 3 -> 2 -> \n"
     ]
    }
   ],
   "source": [
    "import xlrd\n",
    "from collections import defaultdict\n",
    "\n",
    "#open xls file\n",
    "xl_workbook = xlrd.open_workbook(\"Graph_data.xls\")\n",
    "\n",
    "sheet_names = xl_workbook.sheet_names()\n",
    "\n",
    "xl_sheet = xl_workbook.sheet_by_name(sheet_names[0])\n",
    "\n",
    "#breadth first search\n",
    "def bfs(graph, start):\n",
    "    queue, path = [start], []\n",
    "\n",
    "    while queue:\n",
    "        vertex = queue.pop(0)\n",
    "        if vertex in path:\n",
    "            continue\n",
    "        else:\n",
    "            path.append(vertex)\n",
    "        for neighbor in graph[vertex]:\n",
    "            queue.append(neighbor)\n",
    "\n",
    "    return path\n",
    "\n",
    "#depth first search\n",
    "def dfs(graph, start):\n",
    "    stack, path = [start], []\n",
    "\n",
    "    while stack:\n",
    "        vertex = stack.pop()\n",
    "        if vertex not in path:\n",
    "            path.append(vertex)\n",
    "        for neighbor in graph[vertex]:\n",
    "            stack.append(neighbor)\n",
    "      \n",
    "    return path\n",
    "\n",
    "#format print\n",
    "def print_result(arr):\n",
    "    for i in range(0,len(arr)):\n",
    "        print(arr[i],\"-> \", end='')\n",
    "    print()\n",
    "\n",
    "#graph adjacency list\n",
    "graph = defaultdict(list)\n",
    "\n",
    "num_rows = xl_sheet.nrows\n",
    "for i in range (3,num_rows):\n",
    "    cell_obj_1 = xl_sheet.cell(i, 0)\n",
    "    cell_obj_2 = xl_sheet.cell(i, 1)\n",
    "    val1 = int (cell_obj_1.value)\n",
    "    val2 = int (cell_obj_2.value)\n",
    "    graph[val1].append(val2)\n",
    "\n",
    "#tests\n",
    "print_result(bfs(graph, 1))\n",
    "print_result(dfs(graph, 1))"
   ]
  },
  {
   "cell_type": "markdown",
   "metadata": {},
   "source": [
    "One player always plays one (default) and the other player plays n%m.\n",
    "Time complexty of nim: O(n) where n is number of coins."
   ]
  },
  {
   "cell_type": "code",
   "execution_count": 4,
   "metadata": {},
   "outputs": [
    {
     "name": "stdout",
     "output_type": "stream",
     "text": [
      "Player 1 is winner!\n",
      "Player 2 is winner!\n"
     ]
    }
   ],
   "source": [
    "import random\n",
    "\n",
    "def nim (n,m):\n",
    "    player=1\n",
    "    while(n != 0):\n",
    "        if(n==m+1): #extra base control\n",
    "            return 1 if player==2 else 2\n",
    "        if(n%m == 0):#default move\n",
    "            n-=1\n",
    "        else: #sensible move\n",
    "            n-=n%m\n",
    "        player=1 if player == 2 else 2 #player swicth\n",
    "    return player  #winner player\n",
    "\n",
    "#tests\n",
    "print(\"Player\",nim(30,3), \"is winner!\") #1 player winner\n",
    "print(\"Player\",nim(49,9), \"is winner!\") #2 player winner\n",
    "\n",
    "            "
   ]
  },
  {
   "cell_type": "markdown",
   "metadata": {},
   "source": [
    "Our function is doing same thing as binary search. But there is a little differences. It finds target in array and checks targetTH element is equal target.\n",
    "Time complexty of binerySearch: O(log n) where n is array lenght."
   ]
  },
  {
   "cell_type": "code",
   "execution_count": 6,
   "metadata": {},
   "outputs": [
    {
     "name": "stdout",
     "output_type": "stream",
     "text": [
      "arr[ 3 ] =  3\n"
     ]
    }
   ],
   "source": [
    "def binarySearch (arr, mini, maxi, target):\n",
    "    if maxi >= mini:\n",
    "        mid = mini + (maxi - mini)//2\n",
    "        if arr[mid] == target and mid == target: #arr[i] == i \n",
    "            return mid\n",
    "\n",
    "        elif arr[mid] > target: #left side\n",
    "            return binarySearch(arr, mini, mid-1, target)\n",
    "\n",
    "        else:   #right side\n",
    "            return binarySearch(arr, mid + 1, maxi, target)\n",
    "    else:\n",
    "        return -1\n",
    "\n",
    "#test\n",
    "arr = [0,1,2,3,5]\n",
    "t = 3\n",
    "\n",
    "result = binarySearch(arr, 1, len(arr), t)\n",
    "if result != -1:\n",
    "    print (\"arr[\", result,\"] = \",result)\n",
    "else:\n",
    "    print (\"There is not arr[i] = i\")"
   ]
  },
  {
   "cell_type": "markdown",
   "metadata": {},
   "source": [
    "Divedes the given array in two halves and returns maximum sum of left half,right half or crosses midpoint subarray.\n",
    "Time complexty of binerySearch: O(n log n) where n is array lenght."
   ]
  },
  {
   "cell_type": "code",
   "execution_count": 8,
   "metadata": {},
   "outputs": [
    {
     "name": "stdout",
     "output_type": "stream",
     "text": [
      "Largest sum of contiguous subset is  14\n"
     ]
    }
   ],
   "source": [
    "def maxSum(arr, low, mid, high) : \n",
    "    total = 0; left_total = -1000000\n",
    "      \n",
    "    #left of mid\n",
    "    for i in range(mid, low-1, -1) : \n",
    "        total = total + arr[i] \n",
    "        if (total > left_total) : \n",
    "            left_total = total \n",
    "      \n",
    "    #right of mid\n",
    "    total = 0; right_total = -1000000\n",
    "    for i in range(mid + 1, high + 1) : \n",
    "        total = total + arr[i] \n",
    "        if (total > right_total) : \n",
    "            right_total = total \n",
    "      \n",
    "    return left_total + right_total; \n",
    "  \n",
    "def maxSubArrTotal(arr, low, high) : \n",
    "    #just one element arr\n",
    "    if (low == high) : \n",
    "        return arr[low] \n",
    " \n",
    "    #middle point\n",
    "    mid = (low + high) // 2\n",
    "  \n",
    "    return max(maxSubArrTotal(arr, mid+1, high),    #max subarray total in right half \n",
    "               maxSubArrTotal(arr, low, mid),       #max subarray total in left half \n",
    "               maxSum(arr, low, mid, high))         #max subarray total passing midpoint\n",
    "      \n",
    "#test        \n",
    "arr = [2,3,4,-10,5,9,-10,7] \n",
    "  \n",
    "max_total = maxSubArrTotal(arr, 0, len(arr)-1) \n",
    "print(\"Largest sum of contiguous subset is \", max_total) "
   ]
  },
  {
   "cell_type": "markdown",
   "metadata": {},
   "source": [
    "There is a word set that includes keys that creates input string. Creates pattern of given text and compare given pattern. If patterns matches return true, otherwise return false.\n",
    "Time complexty of check_pattern: O(n) where n is text lenght."
   ]
  },
  {
   "cell_type": "code",
   "execution_count": 12,
   "metadata": {},
   "outputs": [
    {
     "name": "stdout",
     "output_type": "stream",
     "text": [
      "Pattern is correct\n"
     ]
    }
   ],
   "source": [
    "word_dic=dict()\n",
    "word_set={\"to\",\"be\",\"or\",\"not\"}\n",
    "def determine_pattern (text,pattern,wset,dic,symbol,start,end):\n",
    "    key = text[start:end]\n",
    "    if (end == len(text)+1):    #base case\n",
    "        return -1\n",
    "    if(key in dic): #check key in dict\n",
    "        start=end\n",
    "        end+=1\n",
    "        pattern.append(dic[key]) #add pattern but not add dic again\n",
    "        determine_pattern(text,pattern,wset,dic,symbol,start,end)\n",
    "    elif (key in wset): \n",
    "        start=end\n",
    "        end+=1\n",
    "        pattern.append(symbol)  #add pattern\n",
    "        dic.setdefault(key,None)\n",
    "        dic[key]=symbol         #add dict\n",
    "        symbol=chr(ord(symbol) + 1) #update symbol\n",
    "        determine_pattern(text,pattern,wset,dic,symbol,start,end)\n",
    "    else:\n",
    "        end+=1\n",
    "        determine_pattern(text,pattern,wset,dic,symbol,start,end)\n",
    "\n",
    "#compare incoming patter and text's pattern \n",
    "def check_pattern(text,pattern,wset):\n",
    "    pattern_list = []\n",
    "    determine_pattern(text,pattern_list,wset,word_dic,'A',0,1)\n",
    "    if (pattern_list == pattern):\n",
    "        return True;\n",
    "    return False;\n",
    "\n",
    "#test\n",
    "pattern=list(\"ABCDAB\")\n",
    "if(check_pattern(\"tobeornottobe\",pattern,word_set)):\n",
    "    print(\"Pattern is correct\")\n",
    "else:\n",
    "    print(\"Pattern is incorrect\")\n"
   ]
  }
 ],
 "metadata": {
  "kernelspec": {
   "display_name": "Python 3",
   "language": "python",
   "name": "python3"
  },
  "language_info": {
   "codemirror_mode": {
    "name": "ipython",
    "version": 3
   },
   "file_extension": ".py",
   "mimetype": "text/x-python",
   "name": "python",
   "nbconvert_exporter": "python",
   "pygments_lexer": "ipython3",
   "version": "3.7.0"
  }
 },
 "nbformat": 4,
 "nbformat_minor": 2
}
